{
 "cells": [
  {
   "cell_type": "markdown",
   "metadata": {},
   "source": [
    "# Both data features combined\n"
   ]
  },
  {
   "cell_type": "code",
   "execution_count": 2,
   "metadata": {},
   "outputs": [],
   "source": [
    "import pandas as pd\n",
    "import df_manipulation_functions as dfmf\n",
    "import matplotlib.pyplot as plt"
   ]
  },
  {
   "cell_type": "code",
   "execution_count": 3,
   "metadata": {},
   "outputs": [
    {
     "name": "stdout",
     "output_type": "stream",
     "text": [
      "       x_MDS      y_MDS  Stationsnummer\n",
      "0  -7.741117  -2.486349          2009.0\n",
      "1   3.591302  -2.668924          2016.0\n",
      "2   0.900514  -3.360009          2018.0\n",
      "3  -5.683217  -4.007639          2019.0\n",
      "4   1.257658  -5.535455          2029.0\n",
      "..       ...        ...             ...\n",
      "70  1.372844  -0.528060          2612.0\n",
      "71  5.795940 -11.514965          2613.0\n",
      "72 -4.937469   0.831849          2617.0\n",
      "73  4.480534   0.179532          2634.0\n",
      "74  2.436463   1.801329          2635.0\n",
      "\n",
      "[75 rows x 3 columns]\n"
     ]
    },
    {
     "name": "stderr",
     "output_type": "stream",
     "text": [
      "c:\\Users\\janzu\\AppData\\Local\\Programs\\Python\\Python311\\Lib\\site-packages\\sklearn\\manifold\\_mds.py:299: FutureWarning: The default value of `normalized_stress` will change to `'auto'` in version 1.4. To suppress this warning, manually set the value of `normalized_stress`.\n",
      "  warnings.warn(\n"
     ]
    }
   ],
   "source": [
    "#read oin the temp features normalized data basic and all\n",
    "basic_features_normalized_temp = pd.read_pickle('Temp_Features/basic_normalized_temp.pkl')\n",
    "all_features_normalized_temp = pd.read_pickle('Temp_Features/all_normalized_temp.pkl')\n",
    "all_features_temp = pd.read_pickle('Temp_Features/all_features_temp.pkl')\n",
    "\n",
    "#read in the flow features normalized data basic and all\n",
    "basic_features_normalized_flow = pd.read_pickle('Flow_Features/basic_normalized_flow.pkl')\n",
    "all_features_normalized_flow = pd.read_pickle('Flow_Features/all_normalized_flow.pkl')\n",
    "all_features_flow = pd.read_pickle('Flow_Features/all_features_flow.pkl')\n",
    "\n",
    "#merge the temp and flow data\n",
    "basic_normalized_all_df = pd.merge(basic_features_normalized_temp, basic_features_normalized_flow, on=['Stationsnummer'])\n",
    "all_normalized_all_df = pd.merge(all_features_normalized_temp, all_features_normalized_flow, on=['Stationsnummer'])\n",
    "all_features_all = pd.merge(all_features_temp, all_features_flow, on=['Stationsnummer'])\n",
    "all_features_both_mds = dfmf.create_mds_represntation(all_normalized_all_df)\n",
    "\n",
    "# save the both data files\n",
    "basic_normalized_all_df.to_pickle('Both_features/basic_normalized_both.pkl')\n",
    "all_normalized_all_df.to_pickle('Both_features/all_normalized_both.pkl')\n",
    "all_features_all.to_pickle('Both_features/all_features_both.pkl')\n",
    "all_features_both_mds.to_pickle('Both_mds/all_features_both_mds.pkl')\n",
    "print(all_features_both_mds)"
   ]
  },
  {
   "cell_type": "code",
   "execution_count": 4,
   "metadata": {},
   "outputs": [
    {
     "data": {
      "text/plain": [
       "<matplotlib.collections.PathCollection at 0x23018dfc950>"
      ]
     },
     "execution_count": 4,
     "metadata": {},
     "output_type": "execute_result"
    },
    {
     "data": {
      "image/png": "[encoded data removed]",
      "text/plain": [
       "<Figure size 640x480 with 1 Axes>"
      ]
     },
     "metadata": {},
     "output_type": "display_data"
    }
   ],
   "source": [
    "#show mds representation of all_features_both\n",
    "plt.scatter(all_features_both_mds['x_MDS'], all_features_both_mds['y_MDS'])\n"
   ]
  },
  {
   "cell_type": "code",
   "execution_count": null,
   "metadata": {},
   "outputs": [],
   "source": []
  }
 ],
 "metadata": {
  "kernelspec": {
   "display_name": "Python 3",
   "language": "python",
   "name": "python3"
  },
  "language_info": {
   "codemirror_mode": {
    "name": "ipython",
    "version": 3
   },
   "file_extension": ".py",
   "mimetype": "text/x-python",
   "name": "python",
   "nbconvert_exporter": "python",
   "pygments_lexer": "ipython3",
   "version": "3.11.2"
  },
  "orig_nbformat": 4
 },
 "nbformat": 4,
 "nbformat_minor": 2
}
