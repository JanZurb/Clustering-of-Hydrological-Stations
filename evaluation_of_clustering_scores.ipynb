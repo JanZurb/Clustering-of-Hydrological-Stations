{
 "cells": [
  {
   "cell_type": "markdown",
   "metadata": {},
   "source": [
    "# Evaluatio of Clustering Scores"
   ]
  },
  {
   "cell_type": "code",
   "execution_count": 1,
   "metadata": {},
   "outputs": [],
   "source": [
    "import pandas as pd\n",
    "import df_manipulation_functions as dfmf\n"
   ]
  },
  {
   "cell_type": "code",
   "execution_count": 2,
   "metadata": {},
   "outputs": [],
   "source": [
    "#read in the scores of the different clustering options\n",
    "scores_hierarchical_temp_basic = pd.read_csv('Scores\\Hierarchical\\cluster_scores_hierachical_basic_temp.csv')\n",
    "scores_hierarchical_temp_additional = pd.read_csv('Scores\\Hierarchical\\cluster_scores_hierachical_additional_temp.csv')\n",
    "scores_hierarchical_temp_all = pd.read_csv('Scores\\Hierarchical\\cluster_scores_hierachical_all_temp.csv')"
   ]
  },
  {
   "cell_type": "code",
   "execution_count": 3,
   "metadata": {},
   "outputs": [
    {
     "name": "stdout",
     "output_type": "stream",
     "text": [
      "wrong score_name\n",
      "wrong score_name\n",
      "wrong score_name\n"
     ]
    },
    {
     "data": {
      "text/html": [
       "<div>\n",
       "<style scoped>\n",
       "    .dataframe tbody tr th:only-of-type {\n",
       "        vertical-align: middle;\n",
       "    }\n",
       "\n",
       "    .dataframe tbody tr th {\n",
       "        vertical-align: top;\n",
       "    }\n",
       "\n",
       "    .dataframe thead th {\n",
       "        text-align: right;\n",
       "    }\n",
       "</style>\n",
       "<table border=\"1\" class=\"dataframe\">\n",
       "  <thead>\n",
       "    <tr style=\"text-align: right;\">\n",
       "      <th></th>\n",
       "      <th>clustering_options</th>\n",
       "      <th>score_name</th>\n",
       "      <th>data_set</th>\n",
       "      <th>subset</th>\n",
       "      <th>score</th>\n",
       "      <th>num_clusters</th>\n",
       "    </tr>\n",
       "  </thead>\n",
       "  <tbody>\n",
       "    <tr>\n",
       "      <th>0</th>\n",
       "      <td>hierarchical</td>\n",
       "      <td>silhouette</td>\n",
       "      <td>temp</td>\n",
       "      <td>basic</td>\n",
       "      <td>None</td>\n",
       "      <td>None</td>\n",
       "    </tr>\n",
       "    <tr>\n",
       "      <th>0</th>\n",
       "      <td>hierarchical</td>\n",
       "      <td>silhouette</td>\n",
       "      <td>temp</td>\n",
       "      <td>additional</td>\n",
       "      <td>None</td>\n",
       "      <td>None</td>\n",
       "    </tr>\n",
       "    <tr>\n",
       "      <th>0</th>\n",
       "      <td>hierarchical</td>\n",
       "      <td>silhouette</td>\n",
       "      <td>temp</td>\n",
       "      <td>all</td>\n",
       "      <td>None</td>\n",
       "      <td>None</td>\n",
       "    </tr>\n",
       "  </tbody>\n",
       "</table>\n",
       "</div>"
      ],
      "text/plain": [
       "  clustering_options  score_name data_set      subset score num_clusters\n",
       "0       hierarchical  silhouette     temp       basic  None         None\n",
       "0       hierarchical  silhouette     temp  additional  None         None\n",
       "0       hierarchical  silhouette     temp         all  None         None"
      ]
     },
     "execution_count": 3,
     "metadata": {},
     "output_type": "execute_result"
    }
   ],
   "source": [
    "def get_best_score_and_num_clusters(scores, clustering_options, score_name, data_set, subset):\n",
    "    \"\"\"Returns the best score and the number of clusters that produced it in a dataframe with the given parameters in the columns.\"\"\"\n",
    "    best_score_num_clust_df = pd.DataFrame(columns=['clustering_options', 'score_name', 'data_set', 'subset','score', 'num_clusters'])\n",
    "    best_score_num_clust_df['clustering_options'] = [clustering_options]\n",
    "    best_score_num_clust_df['score_name'] = [score_name]\n",
    "    best_score_num_clust_df['data_set'] = [data_set]\n",
    "    best_score_num_clust_df['subset'] = [subset]\n",
    "\n",
    "    score, num_clust = dfmf.get_best_score(scores, score_name)\n",
    "    best_score_num_clust_df['score'] = [score]\n",
    "    best_score_num_clust_df['num_clusters'] = [num_clust]\n",
    "    return best_score_num_clust_df\n",
    "\n",
    "all_scores = [scores_hierarchical_temp_basic, scores_hierarchical_temp_additional, scores_hierarchical_temp_all]\n",
    "\n",
    "a = get_best_score_and_num_clusters(scores_hierarchical_temp_basic, 'hierarchical', 'silhouette', 'temp', 'basic')\n",
    "b = get_best_score_and_num_clusters(scores_hierarchical_temp_additional, 'hierarchical', 'silhouette', 'temp', 'additional')\n",
    "c = get_best_score_and_num_clusters(scores_hierarchical_temp_all, 'hierarchical', 'silhouette', 'temp', 'all')\n",
    "\n",
    "best_score_num_clust_df = pd.concat([a, b, c])\n",
    "best_score_num_clust_df.head(5)\n",
    "\n",
    "        "
   ]
  },
  {
   "cell_type": "code",
   "execution_count": null,
   "metadata": {},
   "outputs": [],
   "source": []
  }
 ],
 "metadata": {
  "kernelspec": {
   "display_name": "Python 3",
   "language": "python",
   "name": "python3"
  },
  "language_info": {
   "codemirror_mode": {
    "name": "ipython",
    "version": 3
   },
   "file_extension": ".py",
   "mimetype": "text/x-python",
   "name": "python",
   "nbconvert_exporter": "python",
   "pygments_lexer": "ipython3",
   "version": "3.11.2"
  },
  "orig_nbformat": 4
 },
 "nbformat": 4,
 "nbformat_minor": 2
}
